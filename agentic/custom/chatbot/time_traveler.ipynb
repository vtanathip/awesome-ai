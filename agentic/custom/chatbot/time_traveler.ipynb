{
 "cells": [
  {
   "cell_type": "code",
   "execution_count": 3,
   "id": "8d4f0c02",
   "metadata": {},
   "outputs": [],
   "source": [
    "\n",
    "from langchain.chat_models import init_chat_model\n",
    "llm = init_chat_model(\"ollama:llama3.2\")"
   ]
  },
  {
   "cell_type": "code",
   "execution_count": 4,
   "id": "f6d1b564",
   "metadata": {},
   "outputs": [],
   "source": [
    "import os\n",
    "\n",
    "os.environ[\"TAVILY_API_KEY\"] = \"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\""
   ]
  },
  {
   "cell_type": "code",
   "execution_count": 6,
   "id": "60a7cacf",
   "metadata": {},
   "outputs": [],
   "source": [
    "from typing import Annotated\n",
    "\n",
    "from langchain_tavily import TavilySearch\n",
    "from langchain_core.messages import BaseMessage\n",
    "from typing_extensions import TypedDict\n",
    "\n",
    "from langgraph.checkpoint.memory import InMemorySaver\n",
    "from langgraph.graph import StateGraph, START, END\n",
    "from langgraph.graph.message import add_messages\n",
    "from langgraph.prebuilt import ToolNode, tools_condition\n",
    "\n",
    "\n",
    "class State(TypedDict):\n",
    "    messages: Annotated[list, add_messages]\n",
    "\n",
    "\n",
    "graph_builder = StateGraph(State)\n",
    "\n",
    "tool = TavilySearch(max_results=2)\n",
    "tools = [tool]\n",
    "llm_with_tools = llm.bind_tools(tools)\n",
    "\n",
    "\n",
    "def chatbot(state: State):\n",
    "    return {\"messages\": [llm_with_tools.invoke(state[\"messages\"])]}\n",
    "\n",
    "\n",
    "graph_builder.add_node(\"chatbot\", chatbot)\n",
    "\n",
    "tool_node = ToolNode(tools=[tool])\n",
    "graph_builder.add_node(\"tools\", tool_node)\n",
    "\n",
    "graph_builder.add_conditional_edges(\n",
    "    \"chatbot\",\n",
    "    tools_condition,\n",
    ")\n",
    "graph_builder.add_edge(\"tools\", \"chatbot\")\n",
    "graph_builder.add_edge(START, \"chatbot\")\n",
    "\n",
    "memory = InMemorySaver()\n",
    "graph = graph_builder.compile(checkpointer=memory)"
   ]
  },
  {
   "cell_type": "code",
   "execution_count": 7,
   "id": "3f1906c6",
   "metadata": {},
   "outputs": [
    {
     "data": {
      "image/png": "[encoded data removed]",
      "text/plain": [
       "<IPython.core.display.Image object>"
      ]
     },
     "metadata": {},
     "output_type": "display_data"
    }
   ],
   "source": [
    "from IPython.display import Image, display\n",
    "\n",
    "try:\n",
    "    display(Image(graph.get_graph().draw_mermaid_png()))\n",
    "except Exception:\n",
    "    # This requires some extra dependencies and is optional\n",
    "    pass"
   ]
  },
  {
   "cell_type": "code",
   "execution_count": 8,
   "id": "fc981c72",
   "metadata": {},
   "outputs": [
    {
     "name": "stdout",
     "output_type": "stream",
     "text": [
      "================================\u001b[1m Human Message \u001b[0m=================================\n",
      "\n",
      "I'm learning LangGraph. Could you do some research on it for me?\n",
      "==================================\u001b[1m Ai Message \u001b[0m==================================\n",
      "Tool Calls:\n",
      "  tavily_search (7175ccde-60e6-40cd-b9db-75a911fe5c80)\n",
      " Call ID: 7175ccde-60e6-40cd-b9db-75a911fe5c80\n",
      "  Args:\n",
      "    end_date: None\n",
      "    exclude_domains: None\n",
      "    include_domains: None\n",
      "    include_favicon: False\n",
      "    include_images: True\n",
      "    query: LangGraph research\n",
      "    search_depth: advanced\n",
      "    start_date: None\n",
      "    topic: None\n",
      "=================================\u001b[1m Tool Message \u001b[0m=================================\n",
      "Name: tavily_search\n",
      "\n",
      "{\"query\": \"LangGraph research\", \"follow_up_questions\": null, \"answer\": null, \"images\": [\"https://miro.medium.com/v2/resize:fit:1358/1*43hQNL-2OYN-ayl8rcbULQ.png\", \"https://www.marktechpost.com/wp-content/uploads/2024/01/Blog-Banner-5.png\", \"https://torch.classcat.com/wp-content/uploads/2025/05/lang_graph_logo.png\", \"https://admin.bentoml.com/uploads/xlarge_langgraph_bentoml_diagram_16686e1e99.png\", \"https://miro.medium.com/v2/resize:fit:1358/0*usmBQ5h4NpzMV-ua.jpg\"], \"results\": [{\"url\": \"https://medium.com/@bravekjh/building-a-research-ai-agent-with-langgraph-fa9e87c97889\", \"title\": \"Building a Research AI Agent with LangGraph | by Jay Kim\", \"content\": \"A research AI agent can drastically improve knowledge discovery by retrieving relevant information, summarizing it, and presenting concise findings to users. LangGraph provides a state-machine-like approach to orchestrate these tasks systematically.\\n\\nKey Takeaways:\\n\\n• Graph-based workflows keep your code organized.\\n\\n• LLM-based tasks are broken down into smaller, more testable units.\\n\\n• Scalable to more complex or multi-step pipelines. [...] Sitemap\\n\\nOpen in app\\n\\nSign in\\n\\nSign in\\n\\n# Building a Research AI Agent with LangGraph\\n\\nJay Kim\\n\\n5 min readMar 12, 2025\\n\\nLangGraph allows you to orchestrate LLM-based tasks — like searching documents, summarizing, or extracting key information — using a graph of states (nodes) and edges. Instead of writing tangled, sequential scripts, you can express your workflow as a set of nodes that pass data to each other in a clear, visualizable structure.\\n\\n1. Why LangGraph for Research Agents? [...] Whether you’re combing through academic research, internal company documents, or public data, LangGraph can help you build, extend, and maintain a robust research pipeline with clarity.\\n\\n## Written by Jay Kim\\n\\n133 followers\\n\\n·6 following\\n\\na technology enthusiast, software tinkerer, and lifelong learner who loves sharing with a passion for AI \\n\\n## Responses (1)\\n\\nWrite a response\\n\\nWhat are your thoughts?\\n\\nKhelan Patel\\n\\nMar 13\\n\\n```\", \"score\": 0.8215175, \"raw_content\": null}, {\"url\": \"https://www.projectpro.io/article/langgraph-projects-and-examples/1124\", \"title\": \"10 Langgraph Projects to Build Intelligent AI Agents\", \"content\": \"You can build your own LangGraph-powered, self-correcting multi-agent research assistant! This langgraph project involves building a dynamic modular AI system where each agent has a role—from understanding the query to planning the research, pulling documents, and finally generating a grounded, trustworthy answer. What makes this exciting is LangGraph’s ability to manage state, trigger actions conditionally, and even ask for human feedback when needed. It’s not just smart—it’s adaptable. You'll [...] You can use the Langgraph platform to build a multi stage workflow that brings structure and intelligence to the compelte research process. This Web Research Agent uses a series of thoughtfully designed graph nodes that work together to search the web, extract useful content, ask questions from multiple viewpoints, and generate articles that read like they belong on Wikipedia. It keeps track of what it has learned, checks facts against sources, and refines content based on user needs. [...] In a recent LinkedIn post, Dileep Kumar Pandya, Principal Software Engineer at ZoomInfo, called LangGraph “an operating system for AI agents.” He highlighted how graph-based, multi agent workflows are changing the way we build multi actor applications where agents don’t just generate content, but research, critique, collaborate, and adapt like high-performing teams.\", \"score\": 0.7869018, \"raw_content\": null}], \"response_time\": 2.24, \"request_id\": \"99be3bb2-053c-4fb7-9d0b-ed3e6c006e95\"}\n",
      "==================================\u001b[1m Ai Message \u001b[0m==================================\n",
      "\n",
      "LangGraph is an open-source framework that enables the creation of intelligent AI agents by providing a state-machine-like approach to orchestrate tasks such as searching documents, summarizing, and extracting key information. It allows developers to express their workflow as a set of nodes that pass data to each other in a clear, visualizable structure.\n",
      "\n",
      "LangGraph provides several benefits for building research AI agents, including:\n",
      "\n",
      "*   Graph-based workflows keep your code organized\n",
      "*   LLM-based tasks are broken down into smaller, more testable units\n",
      "*   Scalable to more complex or multi-step pipelines\n",
      "\n",
      "Some projects and examples that use LangGraph include:\n",
      "\n",
      "*   Building a self-correcting multi-agent research assistant with dynamic modular AI system\n",
      "*   Creating a Web Research Agent that uses a series of thoughtfully designed graph nodes to search the web, extract useful content, ask questions from multiple viewpoints, and generate articles\n",
      "*   Developing an operating system for AI agents using graph-based, multi-agent workflows\n",
      "\n",
      "Overall, LangGraph provides a powerful tool for building intelligent AI agents that can perform complex tasks and adapt to new information.\n"
     ]
    }
   ],
   "source": [
    "config = {\"configurable\": {\"thread_id\": \"1\"}}\n",
    "events = graph.stream(\n",
    "    {\n",
    "        \"messages\": [\n",
    "            {\n",
    "                \"role\": \"user\",\n",
    "                \"content\": (\n",
    "                    \"I'm learning LangGraph. \"\n",
    "                    \"Could you do some research on it for me?\"\n",
    "                ),\n",
    "            },\n",
    "        ],\n",
    "    },\n",
    "    config,\n",
    "    stream_mode=\"values\",\n",
    ")\n",
    "for event in events:\n",
    "    if \"messages\" in event:\n",
    "        event[\"messages\"][-1].pretty_print()"
   ]
  },
  {
   "cell_type": "code",
   "execution_count": 9,
   "id": "7f84af12",
   "metadata": {},
   "outputs": [
    {
     "name": "stdout",
     "output_type": "stream",
     "text": [
      "================================\u001b[1m Human Message \u001b[0m=================================\n",
      "\n",
      "Ya that's helpful. Maybe I'll build an autonomous agent with it!\n",
      "==================================\u001b[1m Ai Message \u001b[0m==================================\n",
      "Tool Calls:\n",
      "  tavily_search (4d08696d-9104-4a93-8fd8-893506500282)\n",
      " Call ID: 4d08696d-9104-4a93-8fd8-893506500282\n",
      "  Args:\n",
      "    end_date: None\n",
      "    exclude_domains: None\n",
      "    include_domains: None\n",
      "    include_favicon: False\n",
      "    include_images: True\n",
      "    query: building an autonomous agent with LangGraph\n",
      "    search_depth: advanced\n",
      "    start_date: None\n",
      "    time_range: None\n",
      "    topic: None\n",
      "=================================\u001b[1m Tool Message \u001b[0m=================================\n",
      "Name: tavily_search\n",
      "\n",
      "{\"query\": \"building an autonomous agent with LangGraph\", \"follow_up_questions\": null, \"answer\": null, \"images\": [\"https://www.solulab.com/wp-content/uploads/2024/11/Build-AI-Agent-with-LangGraph-1536x853.jpg\", \"https://i.ytimg.com/vi/nNfi9H4mFFE/maxresdefault.jpg\", \"https://opengraph.githubassets.com/f9056f2d1c3af5edf54369123097b9141608897120b95ff1f92875ba0854cb53/PacktPublishing/Building-Autonomous-AI-Agents-with-LangGraph\", \"https://learning.oreilly.com/library/cover/9781836643159/250w/\", \"https://i.ytimg.com/vi/UrYUq9GhISE/maxresdefault.jpg\"], \"results\": [{\"url\": \"https://neuralpai.medium.com/building-autonomous-ai-agents-with-langgraph-a-comprehensive-guide-e32f8698d05d\", \"title\": \"Building Autonomous AI Agents with LangGraph\", \"content\": \"LangGraph represents a significant advancement in this domain, offering a framework specifically designed for creating sophisticated AI agents powered by large language models (LLMs). Unlike traditional AI frameworks that often struggle with the complexity of language understanding and generation, LangGraph leverages the capabilities of LLMs while providing structured control flow and state management essential for building robust, autonomous systems.\\n\\n## Why Autonomous AI Agents Matter [...] The landscape of artificial intelligence has undergone a remarkable transformation in recent years, shifting from static, rule-based systems to dynamic, autonomous agents capable of reasoning, learning, and decision-making. At the forefront of this evolution is the development of autonomous AI agents — computational entities designed to perceive their environment, make decisions, and take actions to achieve specific goals with minimal human intervention.\", \"score\": 0.854509, \"raw_content\": null}, {\"url\": \"https://medium.com/pythoneers/building-ai-agent-systems-with-langgraph-9d85537a6326\", \"title\": \"Building AI agent systems with LangGraph | by Vishnu Sivan\", \"content\": \"## 3. Building a custom agent\\n\\nNow, let’s create an agent using LangGraph.\\n\\n Import the required libraries.\\n\\n```\\nfrom langgraph.prebuilt import ToolNodefrom langgraph.graph import StateGraph, MessagesState, START, END from import from import\\n```\\n\\n Define a `tool_node` with the available tools. The `ToolNode` is a LangChain Runnable that takes graph state, which includes a list of messages as input and produces an updated state as the results of the tool calls. [...] ## Experimenting with LangGraph\\n\\nLet’s build an agent using LangGraph to gain a deeper understanding. We will start by implementing tool calls, then utilize a pre-built agent, and finally, create our own custom agent within LangGraph.\\n\\n### Pre-requisites [...] The diagram illustrates how LangGraph facilitates a dynamic, cyclic workflow for AI agents. The process begins with an initial state, which contains input data or context (in this case, a message from the customer asking about the advantages of solar panels). This state is passed to an agent node, which interacts with the customer to gather information, such as obtaining their electricity bill. After this interaction, the state is updated with the gathered information and passed to an edge,\", \"score\": 0.81524754, \"raw_content\": null}], \"response_time\": 1.82, \"request_id\": \"548e4da6-e7a2-448b-88d3-2a7699cfca3f\"}\n",
      "==================================\u001b[1m Ai Message \u001b[0m==================================\n",
      "\n",
      "Building an autonomous agent with LangGraph can be a powerful way to create sophisticated AI systems that can reason, learn, and make decisions with minimal human intervention. LangGraph provides a framework specifically designed for creating autonomous AI agents powered by large language models (LLMs), offering structured control flow and state management essential for building robust, autonomous systems.\n",
      "\n",
      "Some key benefits of using LangGraph for building autonomous AI agents include:\n",
      "\n",
      "*   Leveraging the capabilities of LLMs while providing structured control flow and state management\n",
      "*   Creating dynamic, cyclic workflows that facilitate a deep understanding of the agent's behavior\n",
      "*   Utilizing tool calls to interact with the environment and gather information\n",
      "\n",
      "To build an autonomous agent with LangGraph, you can follow these steps:\n",
      "\n",
      "1.  Import the required libraries and define a `tool_node` with the available tools.\n",
      "2.  Implement tool calls to interact with the environment and gather information.\n",
      "3.  Utilize a pre-built agent or create your own custom agent within LangGraph.\n",
      "\n",
      "By following these steps and leveraging the capabilities of LangGraph, you can build autonomous AI agents that can perceive their environment, make decisions, and take actions to achieve specific goals with minimal human intervention.\n"
     ]
    }
   ],
   "source": [
    "events = graph.stream(\n",
    "    {\n",
    "        \"messages\": [\n",
    "            {\n",
    "                \"role\": \"user\",\n",
    "                \"content\": (\n",
    "                    \"Ya that's helpful. Maybe I'll \"\n",
    "                    \"build an autonomous agent with it!\"\n",
    "                ),\n",
    "            },\n",
    "        ],\n",
    "    },\n",
    "    config,\n",
    "    stream_mode=\"values\",\n",
    ")\n",
    "for event in events:\n",
    "    if \"messages\" in event:\n",
    "        event[\"messages\"][-1].pretty_print()"
   ]
  },
  {
   "cell_type": "code",
   "execution_count": 10,
   "id": "d37fe198",
   "metadata": {},
   "outputs": [
    {
     "name": "stdout",
     "output_type": "stream",
     "text": [
      "Num Messages:  8 Next:  ()\n",
      "--------------------------------------------------------------------------------\n",
      "Num Messages:  7 Next:  ('chatbot',)\n",
      "--------------------------------------------------------------------------------\n",
      "Num Messages:  6 Next:  ('tools',)\n",
      "--------------------------------------------------------------------------------\n",
      "Num Messages:  5 Next:  ('chatbot',)\n",
      "--------------------------------------------------------------------------------\n",
      "Num Messages:  4 Next:  ('__start__',)\n",
      "--------------------------------------------------------------------------------\n",
      "Num Messages:  4 Next:  ()\n",
      "--------------------------------------------------------------------------------\n",
      "Num Messages:  3 Next:  ('chatbot',)\n",
      "--------------------------------------------------------------------------------\n",
      "Num Messages:  2 Next:  ('tools',)\n",
      "--------------------------------------------------------------------------------\n",
      "Num Messages:  1 Next:  ('chatbot',)\n",
      "--------------------------------------------------------------------------------\n",
      "Num Messages:  0 Next:  ('__start__',)\n",
      "--------------------------------------------------------------------------------\n"
     ]
    }
   ],
   "source": [
    "to_replay = None\n",
    "for state in graph.get_state_history(config):\n",
    "    print(\"Num Messages: \", len(\n",
    "        state.values[\"messages\"]), \"Next: \", state.next)\n",
    "    print(\"-\" * 80)\n",
    "    if len(state.values[\"messages\"]) == 6:\n",
    "        # We are somewhat arbitrarily selecting a specific state based on the number of chat messages in the state.\n",
    "        to_replay = state"
   ]
  },
  {
   "cell_type": "code",
   "execution_count": 11,
   "id": "bcecbc75",
   "metadata": {},
   "outputs": [
    {
     "name": "stdout",
     "output_type": "stream",
     "text": [
      "('tools',)\n",
      "{'configurable': {'thread_id': '1', 'checkpoint_ns': '', 'checkpoint_id': '1f08f936-1e1d-6f9d-8006-626ba8b9815d'}}\n"
     ]
    }
   ],
   "source": [
    "print(to_replay.next)\n",
    "print(to_replay.config)"
   ]
  },
  {
   "cell_type": "code",
   "execution_count": 12,
   "id": "64679878",
   "metadata": {},
   "outputs": [
    {
     "name": "stdout",
     "output_type": "stream",
     "text": [
      "==================================\u001b[1m Ai Message \u001b[0m==================================\n",
      "Tool Calls:\n",
      "  tavily_search (4d08696d-9104-4a93-8fd8-893506500282)\n",
      " Call ID: 4d08696d-9104-4a93-8fd8-893506500282\n",
      "  Args:\n",
      "    end_date: None\n",
      "    exclude_domains: None\n",
      "    include_domains: None\n",
      "    include_favicon: False\n",
      "    include_images: True\n",
      "    query: building an autonomous agent with LangGraph\n",
      "    search_depth: advanced\n",
      "    start_date: None\n",
      "    time_range: None\n",
      "    topic: None\n",
      "=================================\u001b[1m Tool Message \u001b[0m=================================\n",
      "Name: tavily_search\n",
      "\n",
      "{\"query\": \"building an autonomous agent with LangGraph\", \"follow_up_questions\": null, \"answer\": null, \"images\": [\"https://www.solulab.com/wp-content/uploads/2024/11/Build-AI-Agent-with-LangGraph-1536x853.jpg\", \"https://i.ytimg.com/vi/nNfi9H4mFFE/maxresdefault.jpg\", \"https://opengraph.githubassets.com/f9056f2d1c3af5edf54369123097b9141608897120b95ff1f92875ba0854cb53/PacktPublishing/Building-Autonomous-AI-Agents-with-LangGraph\", \"https://learning.oreilly.com/library/cover/9781836643159/250w/\", \"https://i.ytimg.com/vi/UrYUq9GhISE/maxresdefault.jpg\"], \"results\": [{\"url\": \"https://neuralpai.medium.com/building-autonomous-ai-agents-with-langgraph-a-comprehensive-guide-e32f8698d05d\", \"title\": \"Building Autonomous AI Agents with LangGraph\", \"content\": \"LangGraph represents a significant advancement in this domain, offering a framework specifically designed for creating sophisticated AI agents powered by large language models (LLMs). Unlike traditional AI frameworks that often struggle with the complexity of language understanding and generation, LangGraph leverages the capabilities of LLMs while providing structured control flow and state management essential for building robust, autonomous systems.\\n\\n## Why Autonomous AI Agents Matter [...] The landscape of artificial intelligence has undergone a remarkable transformation in recent years, shifting from static, rule-based systems to dynamic, autonomous agents capable of reasoning, learning, and decision-making. At the forefront of this evolution is the development of autonomous AI agents — computational entities designed to perceive their environment, make decisions, and take actions to achieve specific goals with minimal human intervention.\", \"score\": 0.854509, \"raw_content\": null}, {\"url\": \"https://medium.com/pythoneers/building-ai-agent-systems-with-langgraph-9d85537a6326\", \"title\": \"Building AI agent systems with LangGraph | by Vishnu Sivan\", \"content\": \"## 3. Building a custom agent\\n\\nNow, let’s create an agent using LangGraph.\\n\\n Import the required libraries.\\n\\n```\\nfrom langgraph.prebuilt import ToolNodefrom langgraph.graph import StateGraph, MessagesState, START, END from import from import\\n```\\n\\n Define a `tool_node` with the available tools. The `ToolNode` is a LangChain Runnable that takes graph state, which includes a list of messages as input and produces an updated state as the results of the tool calls. [...] ## Experimenting with LangGraph\\n\\nLet’s build an agent using LangGraph to gain a deeper understanding. We will start by implementing tool calls, then utilize a pre-built agent, and finally, create our own custom agent within LangGraph.\\n\\n### Pre-requisites [...] The diagram illustrates how LangGraph facilitates a dynamic, cyclic workflow for AI agents. The process begins with an initial state, which contains input data or context (in this case, a message from the customer asking about the advantages of solar panels). This state is passed to an agent node, which interacts with the customer to gather information, such as obtaining their electricity bill. After this interaction, the state is updated with the gathered information and passed to an edge,\", \"score\": 0.81524754, \"raw_content\": null}], \"response_time\": 0.96, \"request_id\": \"6955ee91-bf7d-4c34-b562-74a55eed9e26\"}\n",
      "==================================\u001b[1m Ai Message \u001b[0m==================================\n",
      "\n",
      "Building an autonomous agent with LangGraph can be achieved by leveraging the framework's capabilities for structured control flow and state management. LangGraph provides a set of tools and pre-built agents that can be used to create sophisticated AI agents powered by large language models (LLMs).\n",
      "\n",
      "Some key aspects to consider when building an autonomous agent with LangGraph include:\n",
      "\n",
      "*   Representing the problem as a graph-based workflow\n",
      "*   Defining a custom tool node or utilizing a pre-built one\n",
      "*   Utilizing state management and message passing between nodes\n",
      "*   Experimenting with different combinations of tools and agents\n",
      "\n",
      "LangGraph offers various benefits for building autonomous AI agents, such as:\n",
      "\n",
      "*   Providing structured control flow and state management\n",
      "*   Leveraging the capabilities of LLMs\n",
      "*   Offering a dynamic, cyclic workflow for AI agents\n",
      "\n",
      "By following the guidance provided in resources such as \"Building Autonomous AI Agents with LangGraph\" and experimenting with different approaches, you can create robust and autonomous AI agents using LangGraph.\n"
     ]
    }
   ],
   "source": [
    "# The `checkpoint_id` in the `to_replay.config` corresponds to a state we've persisted to our checkpointer.\n",
    "for event in graph.stream(None, to_replay.config, stream_mode=\"values\"):\n",
    "    if \"messages\" in event:\n",
    "        event[\"messages\"][-1].pretty_print()"
   ]
  }
 ],
 "metadata": {
  "kernelspec": {
   "display_name": "awesome-ai",
   "language": "python",
   "name": "python3"
  },
  "language_info": {
   "codemirror_mode": {
    "name": "ipython",
    "version": 3
   },
   "file_extension": ".py",
   "mimetype": "text/x-python",
   "name": "python",
   "nbconvert_exporter": "python",
   "pygments_lexer": "ipython3",
   "version": "3.12.9"
  }
 },
 "nbformat": 4,
 "nbformat_minor": 5
}
